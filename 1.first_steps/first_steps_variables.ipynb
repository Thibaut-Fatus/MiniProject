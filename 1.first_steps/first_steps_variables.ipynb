{
 "cells": [
  {
   "cell_type": "markdown",
   "metadata": {},
   "source": [
    "# First Steps\n",
    "This is a ipython notebook CLI. You can type code, add comments, and even set up titles, docs, with markdown. This is awesome.\n",
    "\n",
    "When you start a python CLI you will get a prompt in which you can type code. \n",
    "\n",
    "**Beware of spaces and tabs since python use indentation to detect scope (more on this later). And ipython uses enter for newline and shift+enter to exectute the code (when python CLI uses the opposite).**\n",
    "\n",
    "Usually, when you try out a new language you want to do a \"Hello World\", a simple program wich only display \"hello world\". In python this is easy:\n",
    "\n",
    "*don't forget to press shift + enter to execute code*"
   ]
  },
  {
   "cell_type": "code",
   "execution_count": 1,
   "metadata": {},
   "outputs": [
    {
     "name": "stdout",
     "output_type": "stream",
     "text": [
      "Hello World!\n"
     ]
    }
   ],
   "source": [
    "print(\"Hello World!\")"
   ]
  },
  {
   "cell_type": "markdown",
   "metadata": {},
   "source": [
    "Ok I cheated.. First because this does not open a real windows but just print something on the console screen, in this case stdout : standart out, it's where programs print stuff by default. It they fail you usually want to display something on stderr instead. But we don't want to make GUI for the moment, so let's stick with the console outputs.\n",
    "\n",
    "There are other ways to display text or to use print, we will see some of them later (and this particular one won't work in python 3.x)\n",
    "\n",
    "**ok nice but this is pretty useless**\n",
    "\n",
    "## Variables\n",
    "\n",
    "Indeed, let's see how we assign variables:"
   ]
  },
  {
   "cell_type": "code",
   "execution_count": 2,
   "metadata": {},
   "outputs": [
    {
     "name": "stdout",
     "output_type": "stream",
     "text": [
      "10 toto\n"
     ]
    }
   ],
   "source": [
    "x = 10\n",
    "y = \"toto\"\n",
    "print(x, y)"
   ]
  },
  {
   "cell_type": "markdown",
   "metadata": {},
   "source": [
    "Python is strongly, dynamically typed. Which means it automatically detects what kind of type a given variable is at runtime. In this case:\n",
    "- x is integer\n",
    "- y is string\n",
    "You can even check this with"
   ]
  },
  {
   "cell_type": "code",
   "execution_count": 8,
   "metadata": {},
   "outputs": [
    {
     "name": "stdout",
     "output_type": "stream",
     "text": [
      "<class 'int'>\n",
      "<class 'str'>\n"
     ]
    }
   ],
   "source": [
    "print(type(x))\n",
    "print(type(y))"
   ]
  },
  {
   "cell_type": "markdown",
   "metadata": {},
   "source": [
    "What happens when you try operations between variables which don't have the same type? It does not work!"
   ]
  },
  {
   "cell_type": "code",
   "execution_count": 9,
   "metadata": {},
   "outputs": [
    {
     "ename": "TypeError",
     "evalue": "must be str, not int",
     "output_type": "error",
     "traceback": [
      "\u001b[0;31m---------------------------------------------------------------------------\u001b[0m",
      "\u001b[0;31mTypeError\u001b[0m                                 Traceback (most recent call last)",
      "\u001b[0;32m<ipython-input-9-b200c134d45f>\u001b[0m in \u001b[0;36m<module>\u001b[0;34m\u001b[0m\n\u001b[0;32m----> 1\u001b[0;31m \u001b[0mprint\u001b[0m\u001b[0;34m(\u001b[0m\u001b[0my\u001b[0m \u001b[0;34m+\u001b[0m \u001b[0mx\u001b[0m\u001b[0;34m)\u001b[0m\u001b[0;34m\u001b[0m\u001b[0m\n\u001b[0m",
      "\u001b[0;31mTypeError\u001b[0m: must be str, not int"
     ]
    }
   ],
   "source": [
    "print(y + x)"
   ]
  },
  {
   "cell_type": "markdown",
   "metadata": {},
   "source": [
    "I lied again. It depends which types you're working with! Let say now:\n",
    "- x is integer\n",
    "- y is now float (a number with a comma in it, like 1.87 or 5.0)\n",
    "\n",
    "btw you've just met your first python error: it gave you a hint saying TypeError and showing you the line which has failed"
   ]
  },
  {
   "cell_type": "code",
   "execution_count": 10,
   "metadata": {},
   "outputs": [
    {
     "name": "stdout",
     "output_type": "stream",
     "text": [
      "<class 'int'> <class 'float'>\n",
      "6.5\n"
     ]
    }
   ],
   "source": [
    "x = 5\n",
    "y = 1.5\n",
    "print(type(x), type(y))\n",
    "print(x + y)"
   ]
  },
  {
   "cell_type": "markdown",
   "metadata": {},
   "source": [
    "It works! but be careful, there are traps:"
   ]
  },
  {
   "cell_type": "code",
   "execution_count": 19,
   "metadata": {},
   "outputs": [
    {
     "data": {
      "text/plain": [
       "2"
      ]
     },
     "execution_count": 19,
     "metadata": {},
     "output_type": "execute_result"
    }
   ],
   "source": [
    "5 / 2"
   ]
  },
  {
   "cell_type": "code",
   "execution_count": 20,
   "metadata": {},
   "outputs": [
    {
     "data": {
      "text/plain": [
       "2.5"
      ]
     },
     "execution_count": 20,
     "metadata": {},
     "output_type": "execute_result"
    }
   ],
   "source": [
    "5.0 / 2"
   ]
  },
  {
   "cell_type": "markdown",
   "metadata": {},
   "source": [
    "Because an operation between 2 integers will remains an integer! (and you can even access the remainder)"
   ]
  },
  {
   "cell_type": "code",
   "execution_count": 22,
   "metadata": {},
   "outputs": [
    {
     "data": {
      "text/plain": [
       "1"
      ]
     },
     "execution_count": 22,
     "metadata": {},
     "output_type": "execute_result"
    }
   ],
   "source": [
    "5 % 2"
   ]
  },
  {
   "cell_type": "markdown",
   "metadata": {},
   "source": [
    "What's great with variables is that you can name them with terms which explains what they are storing:"
   ]
  },
  {
   "cell_type": "code",
   "execution_count": 12,
   "metadata": {},
   "outputs": [
    {
     "name": "stdout",
     "output_type": "stream",
     "text": [
      "Bob Marclor is 18 years old\n"
     ]
    }
   ],
   "source": [
    "age = 18\n",
    "first_name = \"Bob\"\n",
    "last_name = \"Marclor\"\n",
    "print(\"{f} {l} is {a} years old\".format(a=age, f=first_name, l=last_name))"
   ]
  },
  {
   "cell_type": "markdown",
   "metadata": {},
   "source": [
    "Se how I decided to use a particular formating: **my variable names are lower-case and _ separated** (in fact this is a convention named pep8 you must follow ! https://www.python.org/dev/peps/pep-0008/)\n",
    "\n",
    "Have you noticed this new .format() function? It helps me to replace part of the template I've written (with the {f} part) with actual values of my variables.\n",
    "\n",
    "I can do stuf with my variables:"
   ]
  },
  {
   "cell_type": "code",
   "execution_count": 13,
   "metadata": {},
   "outputs": [
    {
     "name": "stdout",
     "output_type": "stream",
     "text": [
      "Bob Marclor is 19 years old\n"
     ]
    }
   ],
   "source": [
    "age = age + 1\n",
    "print(\"{f} {l} is {a} years old\".format(a=age, f=first_name, l=last_name))"
   ]
  },
  {
   "cell_type": "markdown",
   "metadata": {},
   "source": [
    "Happy birthday!\n",
    "\n",
    "Ok variables by themselves are nice, but better use them in ...\n",
    "\n",
    "## Functions\n",
    "\n",
    "Yeah functions, like in your maths class. It takes arguments (or nothing) and do stuff with them (or nothing, but this is not very useful too).\n",
    "\n",
    "This is a function wich adds 2 integers:"
   ]
  },
  {
   "cell_type": "code",
   "execution_count": 14,
   "metadata": {},
   "outputs": [
    {
     "data": {
      "text/plain": [
       "4"
      ]
     },
     "execution_count": 14,
     "metadata": {},
     "output_type": "execute_result"
    }
   ],
   "source": [
    "def addition(a, b):\n",
    "    c = a + b\n",
    "    return c\n",
    "\n",
    "addition(2, 2)"
   ]
  },
  {
   "cell_type": "markdown",
   "metadata": {},
   "source": [
    "Easy right? return is what the function will return. \n",
    "\n",
    "If you write nothing or just \"return\", the function will return **\"None\"** which is the python world for nothing.\n",
    "\n",
    "Functions have **scopes**. Scope is where you can \"see\" a variable. A variable lives in a given scope. For instance you can't access c outside of your function addition:"
   ]
  },
  {
   "cell_type": "code",
   "execution_count": 15,
   "metadata": {},
   "outputs": [
    {
     "ename": "NameError",
     "evalue": "name 'c' is not defined",
     "output_type": "error",
     "traceback": [
      "\u001b[0;31m---------------------------------------------------------------------------\u001b[0m",
      "\u001b[0;31mNameError\u001b[0m                                 Traceback (most recent call last)",
      "\u001b[0;32m<ipython-input-15-2b66fd261ee5>\u001b[0m in \u001b[0;36m<module>\u001b[0;34m\u001b[0m\n\u001b[0;32m----> 1\u001b[0;31m \u001b[0mc\u001b[0m\u001b[0;34m\u001b[0m\u001b[0m\n\u001b[0m",
      "\u001b[0;31mNameError\u001b[0m: name 'c' is not defined"
     ]
    }
   ],
   "source": [
    "c"
   ]
  },
  {
   "cell_type": "markdown",
   "metadata": {},
   "source": [
    "functions are defined using the **keyword** def (for define). There are many keywords in python like:\n",
    "- class\n",
    "- return\n",
    "- import\n",
    "- for\n",
    "- int\n",
    "- str\n",
    "- object\n",
    "- if\n",
    "- ... and a lot of others!\n",
    "\n",
    "And you cannot use them for variable names. It will crash the compiler. And this is bad.\n",
    "\n",
    "You can call functions from function:"
   ]
  },
  {
   "cell_type": "code",
   "execution_count": 16,
   "metadata": {},
   "outputs": [
    {
     "name": "stdout",
     "output_type": "stream",
     "text": [
      "8\n"
     ]
    }
   ],
   "source": [
    "def function_1(a):\n",
    "    return a - 1\n",
    "\n",
    "def function_2(a):\n",
    "    return a + 2\n",
    "\n",
    "def function_3(a, b):\n",
    "    ret = function_1(a) * function_2(b)\n",
    "    return ret\n",
    "\n",
    "print(function_3(3, 2))"
   ]
  },
  {
   "cell_type": "markdown",
   "metadata": {},
   "source": [
    "(3 - 1) * (2 + 2) equals 8. Great, python knows how to count.\n",
    "\n",
    "We will just cover a last concept before showing you how to write proper projects:\n",
    "\n",
    "## loops and conditions\n",
    "\n",
    "These are the first steps from mathematics to programming.\n",
    "\n",
    "Loops helps you iterate (on elements, on list members, just for fun indefinitely). "
   ]
  },
  {
   "cell_type": "code",
   "execution_count": 17,
   "metadata": {},
   "outputs": [
    {
     "name": "stdout",
     "output_type": "stream",
     "text": [
      "0\n",
      "1\n",
      "2\n",
      "3\n",
      "4\n",
      "5\n",
      "6\n",
      "7\n",
      "8\n",
      "9\n"
     ]
    }
   ],
   "source": [
    "for index in range(10):\n",
    "    print(index)"
   ]
  },
  {
   "cell_type": "markdown",
   "metadata": {},
   "source": [
    "As you can see python starts to count at 0 and up to 9 in our case when we asked him range(10). Most programming languages work this way, so get used to it. You could have written, with a **list**:"
   ]
  },
  {
   "cell_type": "code",
   "execution_count": 18,
   "metadata": {},
   "outputs": [
    {
     "name": "stdout",
     "output_type": "stream",
     "text": [
      "1\n",
      "2\n",
      "four\n",
      "(1, 2)\n",
      "5\n"
     ]
    }
   ],
   "source": [
    "for element in [1, 2, \"four\", (1, 2), 5]:\n",
    "    print(element)"
   ]
  },
  {
   "cell_type": "markdown",
   "metadata": {},
   "source": [
    "Lists can contain whatever element you want to, but usually try to only make list of elements which have the same type. You may have list of friends, list of groceries, todo-list, you don't want to have a list of mixed friends - groceries and todos...\n",
    "\n",
    "Nevermind you can iterate over lists. (and most of python element in fact). And what if we want to do different stuff with our elements regarding their types? We will use **conditions**."
   ]
  },
  {
   "cell_type": "code",
   "execution_count": 19,
   "metadata": {},
   "outputs": [
    {
     "name": "stdout",
     "output_type": "stream",
     "text": [
      "3 is uneven\n",
      "4 is even\n"
     ]
    }
   ],
   "source": [
    "def is_even(a):\n",
    "    if a % 2 == 0:\n",
    "        print(\"{val} is even\".format(val=a))\n",
    "        return True\n",
    "    else:\n",
    "        print(\"{val} is uneven\".format(val=a))\n",
    "        return False\n",
    "\n",
    "a = is_even(3)\n",
    "b = is_even(4)"
   ]
  },
  {
   "cell_type": "markdown",
   "metadata": {},
   "source": [
    "**if** keyword checks if the assertion directly following it is True of False, and since you speak english you just learned how to create if - else conditions.\n",
    "\n",
    "You can chain conditions, and nest them: (even if this is not recommended because it becomes hard to read, more on this later)"
   ]
  },
  {
   "cell_type": "code",
   "execution_count": 20,
   "metadata": {},
   "outputs": [
    {
     "name": "stdout",
     "output_type": "stream",
     "text": [
      "a + b can't be 42\n",
      "____\n",
      "2 is even\n",
      "2 is even\n",
      "a and b are even\n"
     ]
    }
   ],
   "source": [
    "def chained_nested_conditions(a, b):\n",
    "    if a + b == 42:\n",
    "        print(\"a + b can't be 42\")\n",
    "    # elif is how you test another condition\n",
    "    # you can call function and use their return value\n",
    "    elif is_even(a):\n",
    "        # this condition will be tested only if a is even\n",
    "        if is_even(b):\n",
    "            print(\"a and b are even\")\n",
    "        else:\n",
    "            print(\"a is even, not b\")\n",
    "    # if you don't match any of the previous conditions you will finish in this one\n",
    "    else:\n",
    "        if is_even(b):\n",
    "            print(\"a uneven, b even\")\n",
    "        else:\n",
    "            print(\"a and b uneven\")\n",
    "\n",
    "chained_nested_conditions(40, 2)\n",
    "print(\"____\")\n",
    "chained_nested_conditions(2, 2)"
   ]
  },
  {
   "cell_type": "markdown",
   "metadata": {},
   "source": [
    "And without even noticing you just learned that we could **comment** our code. Comments are very useful for you and others to remind how your code works and what it's suppose to do. But remember: great code speaks for himself, so keep comments for very rare occasion."
   ]
  },
  {
   "cell_type": "code",
   "execution_count": null,
   "metadata": {
    "collapsed": true
   },
   "outputs": [],
   "source": []
  }
 ],
 "metadata": {
  "kernelspec": {
   "display_name": "Python 3",
   "language": "python",
   "name": "python3"
  },
  "language_info": {
   "codemirror_mode": {
    "name": "ipython",
    "version": 3
   },
   "file_extension": ".py",
   "mimetype": "text/x-python",
   "name": "python",
   "nbconvert_exporter": "python",
   "pygments_lexer": "ipython3",
   "version": "3.6.1"
  }
 },
 "nbformat": 4,
 "nbformat_minor": 1
}
